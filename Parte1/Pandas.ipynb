{
 "cells": [
  {
   "cell_type": "markdown",
   "id": "e490ec09-c89f-40a4-a778-cea67b760272",
   "metadata": {},
   "source": [
    "Funcinamento básico Pandas"
   ]
  },
  {
   "cell_type": "code",
   "execution_count": 1,
   "id": "645583fe-08ab-490e-ae55-23b69cafaa86",
   "metadata": {},
   "outputs": [],
   "source": [
    "import pandas as pd"
   ]
  },
  {
   "cell_type": "code",
   "execution_count": 3,
   "id": "2238cd1a-8bce-4f93-a4ca-c40f6651aaac",
   "metadata": {},
   "outputs": [
    {
     "data": {
      "text/html": [
       "<div>\n",
       "<style scoped>\n",
       "    .dataframe tbody tr th:only-of-type {\n",
       "        vertical-align: middle;\n",
       "    }\n",
       "\n",
       "    .dataframe tbody tr th {\n",
       "        vertical-align: top;\n",
       "    }\n",
       "\n",
       "    .dataframe thead th {\n",
       "        text-align: right;\n",
       "    }\n",
       "</style>\n",
       "<table border=\"1\" class=\"dataframe\">\n",
       "  <thead>\n",
       "    <tr style=\"text-align: right;\">\n",
       "      <th></th>\n",
       "      <th>Estado</th>\n",
       "      <th>Cidade</th>\n",
       "      <th>Habitantes</th>\n",
       "      <th>Salário-Médio</th>\n",
       "    </tr>\n",
       "  </thead>\n",
       "  <tbody>\n",
       "    <tr>\n",
       "      <th>0</th>\n",
       "      <td>Paraná</td>\n",
       "      <td>Londrina</td>\n",
       "      <td>575377</td>\n",
       "      <td>1356.0</td>\n",
       "    </tr>\n",
       "    <tr>\n",
       "      <th>1</th>\n",
       "      <td>São Paulo</td>\n",
       "      <td>São Carlos</td>\n",
       "      <td>254484</td>\n",
       "      <td>1508.0</td>\n",
       "    </tr>\n",
       "    <tr>\n",
       "      <th>2</th>\n",
       "      <td>Santa Catarina</td>\n",
       "      <td>Florianópolis</td>\n",
       "      <td>508826</td>\n",
       "      <td>1798.0</td>\n",
       "    </tr>\n",
       "    <tr>\n",
       "      <th>3</th>\n",
       "      <td>Paraná</td>\n",
       "      <td>Curitiba</td>\n",
       "      <td>1963726</td>\n",
       "      <td>2293.0</td>\n",
       "    </tr>\n",
       "    <tr>\n",
       "      <th>4</th>\n",
       "      <td>São Paulo</td>\n",
       "      <td>Campinas</td>\n",
       "      <td>1223237</td>\n",
       "      <td>1710.0</td>\n",
       "    </tr>\n",
       "  </tbody>\n",
       "</table>\n",
       "</div>"
      ],
      "text/plain": [
       "           Estado         Cidade  Habitantes  Salário-Médio\n",
       "0          Paraná       Londrina      575377         1356.0\n",
       "1       São Paulo     São Carlos      254484         1508.0\n",
       "2  Santa Catarina  Florianópolis      508826         1798.0\n",
       "3          Paraná       Curitiba     1963726         2293.0\n",
       "4       São Paulo       Campinas     1223237         1710.0"
      ]
     },
     "execution_count": 3,
     "metadata": {},
     "output_type": "execute_result"
    }
   ],
   "source": [
    "cidades = pd.DataFrame(\n",
    "    [\n",
    "        ['Paraná', 'Londrina', 575377, 1356.00],\n",
    "        ['São Paulo', 'São Carlos', 254484, 1508.00],\n",
    "        ['Santa Catarina', 'Florianópolis', 508826, 1798.00],\n",
    "        ['Paraná', 'Curitiba', 1963726, 2293.00],\n",
    "        ['São Paulo', 'Campinas', 1223237, 1710.0]\n",
    "    ], columns=['Estado', 'Cidade', 'Habitantes', 'Salário-Médio'])\n",
    "#Ou poderia ser usado:\n",
    "#df = pd.read_csv('cidades.csv', sep = ',', header = 0)\n",
    "cidades"
   ]
  },
  {
   "cell_type": "code",
   "execution_count": 6,
   "id": "3ade98a3-1f12-47b5-8184-72d18b7cad8b",
   "metadata": {},
   "outputs": [
    {
     "name": "stdout",
     "output_type": "stream",
     "text": [
      "      Estado      Cidade  Habitantes  Salário-Médio\n",
      "0     Paraná    Londrina      575377         1356.0\n",
      "1  São Paulo  São Carlos      254484         1508.0\n",
      "\n",
      "\n",
      "      Estado    Cidade  Habitantes  Salário-Médio\n",
      "3     Paraná  Curitiba     1963726         2293.0\n",
      "4  São Paulo  Campinas     1223237         1710.0\n"
     ]
    }
   ],
   "source": [
    "print(cidades.head(2)) #retorna as duas primeiras linhas\n",
    "print('\\n')\n",
    "print(cidades.tail(2)) #retorna as duas últimas linhas"
   ]
  },
  {
   "cell_type": "code",
   "execution_count": 7,
   "id": "6540339c-2a2f-44bb-8a0b-46b91e5908e6",
   "metadata": {},
   "outputs": [
    {
     "data": {
      "text/plain": [
       "(5, 4)"
      ]
     },
     "execution_count": 7,
     "metadata": {},
     "output_type": "execute_result"
    }
   ],
   "source": [
    "cidades.shape #retorna tupla com n° de linhas e colunas"
   ]
  },
  {
   "cell_type": "code",
   "execution_count": 11,
   "id": "50923969-583b-4554-bc63-f650203c33bd",
   "metadata": {},
   "outputs": [
    {
     "name": "stdout",
     "output_type": "stream",
     "text": [
      "<class 'pandas.core.frame.DataFrame'>\n",
      "RangeIndex: 5 entries, 0 to 4\n",
      "Data columns (total 4 columns):\n",
      " #   Column         Non-Null Count  Dtype  \n",
      "---  ------         --------------  -----  \n",
      " 0   Estado         5 non-null      object \n",
      " 1   Cidade         5 non-null      object \n",
      " 2   Habitantes     5 non-null      int64  \n",
      " 3   Salário-Médio  5 non-null      float64\n",
      "dtypes: float64(1), int64(1), object(2)\n",
      "memory usage: 292.0+ bytes\n"
     ]
    }
   ],
   "source": [
    "cidades.info() #retorna vazio e printa informações relevantes do dataframe"
   ]
  },
  {
   "cell_type": "code",
   "execution_count": 17,
   "id": "54709831-f4ab-456a-b8e3-f3e24d3f4dcd",
   "metadata": {},
   "outputs": [
    {
     "name": "stdout",
     "output_type": "stream",
     "text": [
      "Index(['Estado', 'Cidade', 'Habitantes', 'Salário-Médio'], dtype='object')\n"
     ]
    },
    {
     "data": {
      "text/plain": [
       "'Habitantes'"
      ]
     },
     "execution_count": 17,
     "metadata": {},
     "output_type": "execute_result"
    }
   ],
   "source": [
    "print(cidades.columns) #Retorna lista com nome de todos os atributos\n",
    "cidades.columns[2]"
   ]
  },
  {
   "cell_type": "code",
   "execution_count": 18,
   "id": "8c5b67c8-b678-4325-a9ea-bccd9961c9ab",
   "metadata": {},
   "outputs": [
    {
     "data": {
      "text/plain": [
       "count       5.000000\n",
       "mean     1733.000000\n",
       "std       357.459089\n",
       "min      1356.000000\n",
       "25%      1508.000000\n",
       "50%      1710.000000\n",
       "75%      1798.000000\n",
       "max      2293.000000\n",
       "Name: Salário-Médio, dtype: float64"
      ]
     },
     "execution_count": 18,
     "metadata": {},
     "output_type": "execute_result"
    }
   ],
   "source": [
    "cidades['Salário-Médio'].describe() #retorna dataframe com estatísticas da coluna"
   ]
  },
  {
   "cell_type": "code",
   "execution_count": 19,
   "id": "9a73ae43-a898-48d1-8675-cb68578a8c2d",
   "metadata": {},
   "outputs": [
    {
     "data": {
      "text/plain": [
       "Estado            object\n",
       "Cidade            object\n",
       "Habitantes       float64\n",
       "Salário-Médio    float64\n",
       "dtype: object"
      ]
     },
     "execution_count": 19,
     "metadata": {},
     "output_type": "execute_result"
    }
   ],
   "source": [
    "cidades['Habitantes'] = cidades['Habitantes'].astype('float64') #Altera classe de uma coluna\n",
    "cidades.dtypes"
   ]
  },
  {
   "cell_type": "code",
   "execution_count": 20,
   "id": "18204e22-aed2-4c71-9be2-73213dbc71e9",
   "metadata": {},
   "outputs": [
    {
     "data": {
      "text/html": [
       "<div>\n",
       "<style scoped>\n",
       "    .dataframe tbody tr th:only-of-type {\n",
       "        vertical-align: middle;\n",
       "    }\n",
       "\n",
       "    .dataframe tbody tr th {\n",
       "        vertical-align: top;\n",
       "    }\n",
       "\n",
       "    .dataframe thead th {\n",
       "        text-align: right;\n",
       "    }\n",
       "</style>\n",
       "<table border=\"1\" class=\"dataframe\">\n",
       "  <thead>\n",
       "    <tr style=\"text-align: right;\">\n",
       "      <th></th>\n",
       "      <th>Habitantes</th>\n",
       "      <th>Salário-Médio</th>\n",
       "    </tr>\n",
       "  </thead>\n",
       "  <tbody>\n",
       "    <tr>\n",
       "      <th>0</th>\n",
       "      <td>575377.0</td>\n",
       "      <td>1356.0</td>\n",
       "    </tr>\n",
       "    <tr>\n",
       "      <th>1</th>\n",
       "      <td>254484.0</td>\n",
       "      <td>1508.0</td>\n",
       "    </tr>\n",
       "    <tr>\n",
       "      <th>2</th>\n",
       "      <td>508826.0</td>\n",
       "      <td>1798.0</td>\n",
       "    </tr>\n",
       "    <tr>\n",
       "      <th>3</th>\n",
       "      <td>1963726.0</td>\n",
       "      <td>2293.0</td>\n",
       "    </tr>\n",
       "    <tr>\n",
       "      <th>4</th>\n",
       "      <td>1223237.0</td>\n",
       "      <td>1710.0</td>\n",
       "    </tr>\n",
       "  </tbody>\n",
       "</table>\n",
       "</div>"
      ],
      "text/plain": [
       "   Habitantes  Salário-Médio\n",
       "0    575377.0         1356.0\n",
       "1    254484.0         1508.0\n",
       "2    508826.0         1798.0\n",
       "3   1963726.0         2293.0\n",
       "4   1223237.0         1710.0"
      ]
     },
     "execution_count": 20,
     "metadata": {},
     "output_type": "execute_result"
    }
   ],
   "source": [
    "cidadesHab = cidades[['Habitantes', 'Salário-Médio']] #Pegar somente colunas específicas\n",
    "cidadesHab"
   ]
  },
  {
   "cell_type": "code",
   "execution_count": 22,
   "id": "0a3abab1-6888-4653-97a0-03018be0822c",
   "metadata": {},
   "outputs": [
    {
     "data": {
      "text/html": [
       "<div>\n",
       "<style scoped>\n",
       "    .dataframe tbody tr th:only-of-type {\n",
       "        vertical-align: middle;\n",
       "    }\n",
       "\n",
       "    .dataframe tbody tr th {\n",
       "        vertical-align: top;\n",
       "    }\n",
       "\n",
       "    .dataframe thead th {\n",
       "        text-align: right;\n",
       "    }\n",
       "</style>\n",
       "<table border=\"1\" class=\"dataframe\">\n",
       "  <thead>\n",
       "    <tr style=\"text-align: right;\">\n",
       "      <th></th>\n",
       "      <th>Cidade</th>\n",
       "      <th>Habitantes</th>\n",
       "      <th>Salário-Médio</th>\n",
       "    </tr>\n",
       "  </thead>\n",
       "  <tbody>\n",
       "    <tr>\n",
       "      <th>1</th>\n",
       "      <td>São Carlos</td>\n",
       "      <td>254484.0</td>\n",
       "      <td>1508.0</td>\n",
       "    </tr>\n",
       "    <tr>\n",
       "      <th>2</th>\n",
       "      <td>Florianópolis</td>\n",
       "      <td>508826.0</td>\n",
       "      <td>1798.0</td>\n",
       "    </tr>\n",
       "  </tbody>\n",
       "</table>\n",
       "</div>"
      ],
      "text/plain": [
       "          Cidade  Habitantes  Salário-Médio\n",
       "1     São Carlos    254484.0         1508.0\n",
       "2  Florianópolis    508826.0         1798.0"
      ]
     },
     "execution_count": 22,
     "metadata": {},
     "output_type": "execute_result"
    }
   ],
   "source": [
    "cidades.iloc[1:3, 1:] #Seleciona as linhas e colunas pelos índices"
   ]
  },
  {
   "cell_type": "code",
   "execution_count": 26,
   "id": "c92da2fa-df4d-4820-a3a9-6b75fe6bff89",
   "metadata": {},
   "outputs": [
    {
     "data": {
      "text/html": [
       "<div>\n",
       "<style scoped>\n",
       "    .dataframe tbody tr th:only-of-type {\n",
       "        vertical-align: middle;\n",
       "    }\n",
       "\n",
       "    .dataframe tbody tr th {\n",
       "        vertical-align: top;\n",
       "    }\n",
       "\n",
       "    .dataframe thead th {\n",
       "        text-align: right;\n",
       "    }\n",
       "</style>\n",
       "<table border=\"1\" class=\"dataframe\">\n",
       "  <thead>\n",
       "    <tr style=\"text-align: right;\">\n",
       "      <th></th>\n",
       "      <th>Estado</th>\n",
       "      <th>Cidade</th>\n",
       "      <th>Sigla</th>\n",
       "      <th>Habitantes</th>\n",
       "      <th>Salário-Médio</th>\n",
       "    </tr>\n",
       "  </thead>\n",
       "  <tbody>\n",
       "    <tr>\n",
       "      <th>0</th>\n",
       "      <td>Paraná</td>\n",
       "      <td>Londrina</td>\n",
       "      <td>PR</td>\n",
       "      <td>575377.0</td>\n",
       "      <td>1356.0</td>\n",
       "    </tr>\n",
       "    <tr>\n",
       "      <th>1</th>\n",
       "      <td>São Paulo</td>\n",
       "      <td>São Carlos</td>\n",
       "      <td>SP</td>\n",
       "      <td>254484.0</td>\n",
       "      <td>1508.0</td>\n",
       "    </tr>\n",
       "    <tr>\n",
       "      <th>2</th>\n",
       "      <td>Santa Catarina</td>\n",
       "      <td>Florianópolis</td>\n",
       "      <td>SC</td>\n",
       "      <td>508826.0</td>\n",
       "      <td>1798.0</td>\n",
       "    </tr>\n",
       "    <tr>\n",
       "      <th>3</th>\n",
       "      <td>Paraná</td>\n",
       "      <td>Curitiba</td>\n",
       "      <td>PR</td>\n",
       "      <td>1963726.0</td>\n",
       "      <td>2293.0</td>\n",
       "    </tr>\n",
       "    <tr>\n",
       "      <th>4</th>\n",
       "      <td>São Paulo</td>\n",
       "      <td>Campinas</td>\n",
       "      <td>SP</td>\n",
       "      <td>1223237.0</td>\n",
       "      <td>1710.0</td>\n",
       "    </tr>\n",
       "  </tbody>\n",
       "</table>\n",
       "</div>"
      ],
      "text/plain": [
       "           Estado         Cidade Sigla  Habitantes  Salário-Médio\n",
       "0          Paraná       Londrina    PR    575377.0         1356.0\n",
       "1       São Paulo     São Carlos    SP    254484.0         1508.0\n",
       "2  Santa Catarina  Florianópolis    SC    508826.0         1798.0\n",
       "3          Paraná       Curitiba    PR   1963726.0         2293.0\n",
       "4       São Paulo       Campinas    SP   1223237.0         1710.0"
      ]
     },
     "execution_count": 26,
     "metadata": {},
     "output_type": "execute_result"
    }
   ],
   "source": [
    "cidades.insert(2, 'Sigla', ['PR', 'SP', 'SC', 'PR', 'SP']) #insere nova coluna\n",
    "cidades"
   ]
  },
  {
   "cell_type": "code",
   "execution_count": 27,
   "id": "c1f886d7-fcbd-41d3-9043-dc534efd320e",
   "metadata": {},
   "outputs": [
    {
     "name": "stdout",
     "output_type": "stream",
     "text": [
      "0    PR\n",
      "1    SP\n",
      "2    SC\n",
      "3    PR\n",
      "4    SP\n",
      "Name: Sigla, dtype: object\n"
     ]
    },
    {
     "data": {
      "text/html": [
       "<div>\n",
       "<style scoped>\n",
       "    .dataframe tbody tr th:only-of-type {\n",
       "        vertical-align: middle;\n",
       "    }\n",
       "\n",
       "    .dataframe tbody tr th {\n",
       "        vertical-align: top;\n",
       "    }\n",
       "\n",
       "    .dataframe thead th {\n",
       "        text-align: right;\n",
       "    }\n",
       "</style>\n",
       "<table border=\"1\" class=\"dataframe\">\n",
       "  <thead>\n",
       "    <tr style=\"text-align: right;\">\n",
       "      <th></th>\n",
       "      <th>Estado</th>\n",
       "      <th>Cidade</th>\n",
       "      <th>Habitantes</th>\n",
       "      <th>Salário-Médio</th>\n",
       "    </tr>\n",
       "  </thead>\n",
       "  <tbody>\n",
       "    <tr>\n",
       "      <th>0</th>\n",
       "      <td>Paraná</td>\n",
       "      <td>Londrina</td>\n",
       "      <td>575377.0</td>\n",
       "      <td>1356.0</td>\n",
       "    </tr>\n",
       "    <tr>\n",
       "      <th>1</th>\n",
       "      <td>São Paulo</td>\n",
       "      <td>São Carlos</td>\n",
       "      <td>254484.0</td>\n",
       "      <td>1508.0</td>\n",
       "    </tr>\n",
       "    <tr>\n",
       "      <th>2</th>\n",
       "      <td>Santa Catarina</td>\n",
       "      <td>Florianópolis</td>\n",
       "      <td>508826.0</td>\n",
       "      <td>1798.0</td>\n",
       "    </tr>\n",
       "    <tr>\n",
       "      <th>3</th>\n",
       "      <td>Paraná</td>\n",
       "      <td>Curitiba</td>\n",
       "      <td>1963726.0</td>\n",
       "      <td>2293.0</td>\n",
       "    </tr>\n",
       "    <tr>\n",
       "      <th>4</th>\n",
       "      <td>São Paulo</td>\n",
       "      <td>Campinas</td>\n",
       "      <td>1223237.0</td>\n",
       "      <td>1710.0</td>\n",
       "    </tr>\n",
       "  </tbody>\n",
       "</table>\n",
       "</div>"
      ],
      "text/plain": [
       "           Estado         Cidade  Habitantes  Salário-Médio\n",
       "0          Paraná       Londrina    575377.0         1356.0\n",
       "1       São Paulo     São Carlos    254484.0         1508.0\n",
       "2  Santa Catarina  Florianópolis    508826.0         1798.0\n",
       "3          Paraná       Curitiba   1963726.0         2293.0\n",
       "4       São Paulo       Campinas   1223237.0         1710.0"
      ]
     },
     "execution_count": 27,
     "metadata": {},
     "output_type": "execute_result"
    }
   ],
   "source": [
    "print(cidades.pop('Sigla')) #deleta e retorna a coluna\n",
    "cidades"
   ]
  },
  {
   "cell_type": "markdown",
   "id": "11b1c554-c92c-4743-9f4e-ef3608d1ca08",
   "metadata": {},
   "source": [
    "Operações"
   ]
  },
  {
   "cell_type": "code",
   "execution_count": 32,
   "id": "f5427373-a7c3-4780-bd70-47cd056d7b85",
   "metadata": {},
   "outputs": [
    {
     "data": {
      "text/html": [
       "<div>\n",
       "<style scoped>\n",
       "    .dataframe tbody tr th:only-of-type {\n",
       "        vertical-align: middle;\n",
       "    }\n",
       "\n",
       "    .dataframe tbody tr th {\n",
       "        vertical-align: top;\n",
       "    }\n",
       "\n",
       "    .dataframe thead th {\n",
       "        text-align: right;\n",
       "    }\n",
       "</style>\n",
       "<table border=\"1\" class=\"dataframe\">\n",
       "  <thead>\n",
       "    <tr style=\"text-align: right;\">\n",
       "      <th></th>\n",
       "      <th>Estado</th>\n",
       "      <th>Cidade</th>\n",
       "      <th>Habitantes</th>\n",
       "      <th>Salário-Médio</th>\n",
       "    </tr>\n",
       "  </thead>\n",
       "  <tbody>\n",
       "    <tr>\n",
       "      <th>2</th>\n",
       "      <td>Santa Catarina</td>\n",
       "      <td>Florianópolis</td>\n",
       "      <td>508826.0</td>\n",
       "      <td>1798.0</td>\n",
       "    </tr>\n",
       "    <tr>\n",
       "      <th>3</th>\n",
       "      <td>Paraná</td>\n",
       "      <td>Curitiba</td>\n",
       "      <td>1963726.0</td>\n",
       "      <td>2293.0</td>\n",
       "    </tr>\n",
       "    <tr>\n",
       "      <th>4</th>\n",
       "      <td>São Paulo</td>\n",
       "      <td>Campinas</td>\n",
       "      <td>1223237.0</td>\n",
       "      <td>1710.0</td>\n",
       "    </tr>\n",
       "  </tbody>\n",
       "</table>\n",
       "</div>"
      ],
      "text/plain": [
       "           Estado         Cidade  Habitantes  Salário-Médio\n",
       "2  Santa Catarina  Florianópolis    508826.0         1798.0\n",
       "3          Paraná       Curitiba   1963726.0         2293.0\n",
       "4       São Paulo       Campinas   1223237.0         1710.0"
      ]
     },
     "execution_count": 32,
     "metadata": {},
     "output_type": "execute_result"
    }
   ],
   "source": [
    "cidades.query('`Salário-Médio` > 1510.0') #Retorna elementos que preenchem a condição"
   ]
  },
  {
   "cell_type": "code",
   "execution_count": 33,
   "id": "31599b3d-e271-4788-afc8-e43e1128ba20",
   "metadata": {},
   "outputs": [
    {
     "data": {
      "text/html": [
       "<div>\n",
       "<style scoped>\n",
       "    .dataframe tbody tr th:only-of-type {\n",
       "        vertical-align: middle;\n",
       "    }\n",
       "\n",
       "    .dataframe tbody tr th {\n",
       "        vertical-align: top;\n",
       "    }\n",
       "\n",
       "    .dataframe thead th {\n",
       "        text-align: right;\n",
       "    }\n",
       "</style>\n",
       "<table border=\"1\" class=\"dataframe\">\n",
       "  <thead>\n",
       "    <tr style=\"text-align: right;\">\n",
       "      <th></th>\n",
       "      <th>Estado</th>\n",
       "      <th>Cidade</th>\n",
       "      <th>Habitantes</th>\n",
       "      <th>Salário-Médio</th>\n",
       "    </tr>\n",
       "  </thead>\n",
       "  <tbody>\n",
       "    <tr>\n",
       "      <th>4</th>\n",
       "      <td>São Paulo</td>\n",
       "      <td>Campinas</td>\n",
       "      <td>1223237.0</td>\n",
       "      <td>1710.0</td>\n",
       "    </tr>\n",
       "  </tbody>\n",
       "</table>\n",
       "</div>"
      ],
      "text/plain": [
       "      Estado    Cidade  Habitantes  Salário-Médio\n",
       "4  São Paulo  Campinas   1223237.0         1710.0"
      ]
     },
     "execution_count": 33,
     "metadata": {},
     "output_type": "execute_result"
    }
   ],
   "source": [
    "cidades.query('Estado == \"São Paulo\" and Habitantes > 1000000')"
   ]
  },
  {
   "cell_type": "code",
   "execution_count": 34,
   "id": "fa63ed4f-f675-46c9-87bf-bb13152a496b",
   "metadata": {},
   "outputs": [
    {
     "data": {
      "text/html": [
       "<div>\n",
       "<style scoped>\n",
       "    .dataframe tbody tr th:only-of-type {\n",
       "        vertical-align: middle;\n",
       "    }\n",
       "\n",
       "    .dataframe tbody tr th {\n",
       "        vertical-align: top;\n",
       "    }\n",
       "\n",
       "    .dataframe thead th {\n",
       "        text-align: right;\n",
       "    }\n",
       "</style>\n",
       "<table border=\"1\" class=\"dataframe\">\n",
       "  <thead>\n",
       "    <tr style=\"text-align: right;\">\n",
       "      <th></th>\n",
       "      <th>Estado</th>\n",
       "      <th>Cidade</th>\n",
       "      <th>Habitantes</th>\n",
       "      <th>Salário-Médio</th>\n",
       "    </tr>\n",
       "  </thead>\n",
       "  <tbody>\n",
       "    <tr>\n",
       "      <th>4</th>\n",
       "      <td>São Paulo</td>\n",
       "      <td>Campinas</td>\n",
       "      <td>1223237.0</td>\n",
       "      <td>1710.0</td>\n",
       "    </tr>\n",
       "    <tr>\n",
       "      <th>3</th>\n",
       "      <td>Paraná</td>\n",
       "      <td>Curitiba</td>\n",
       "      <td>1963726.0</td>\n",
       "      <td>2293.0</td>\n",
       "    </tr>\n",
       "    <tr>\n",
       "      <th>2</th>\n",
       "      <td>Santa Catarina</td>\n",
       "      <td>Florianópolis</td>\n",
       "      <td>508826.0</td>\n",
       "      <td>1798.0</td>\n",
       "    </tr>\n",
       "    <tr>\n",
       "      <th>0</th>\n",
       "      <td>Paraná</td>\n",
       "      <td>Londrina</td>\n",
       "      <td>575377.0</td>\n",
       "      <td>1356.0</td>\n",
       "    </tr>\n",
       "    <tr>\n",
       "      <th>1</th>\n",
       "      <td>São Paulo</td>\n",
       "      <td>São Carlos</td>\n",
       "      <td>254484.0</td>\n",
       "      <td>1508.0</td>\n",
       "    </tr>\n",
       "  </tbody>\n",
       "</table>\n",
       "</div>"
      ],
      "text/plain": [
       "           Estado         Cidade  Habitantes  Salário-Médio\n",
       "4       São Paulo       Campinas   1223237.0         1710.0\n",
       "3          Paraná       Curitiba   1963726.0         2293.0\n",
       "2  Santa Catarina  Florianópolis    508826.0         1798.0\n",
       "0          Paraná       Londrina    575377.0         1356.0\n",
       "1       São Paulo     São Carlos    254484.0         1508.0"
      ]
     },
     "execution_count": 34,
     "metadata": {},
     "output_type": "execute_result"
    }
   ],
   "source": [
    "cidades.sort_values(by='Cidade', inplace=True) #Ordena pelos valores da coluna\n",
    "cidades"
   ]
  },
  {
   "cell_type": "code",
   "execution_count": 35,
   "id": "4beb226b-4881-4c77-baf6-aad29abaab9c",
   "metadata": {},
   "outputs": [],
   "source": [
    "numeros_cardinalidade = pd.DataFrame(\n",
    "    [\n",
    "        [1, 'ímpar'],\n",
    "        [2, 'par'],\n",
    "        [3, 'ímpar'],\n",
    "        [4, 'par']\n",
    "    ], columns=['Número', 'Cardinalidade'])\n",
    "\n",
    "numeros_primo = pd.DataFrame(\n",
    "    [\n",
    "        [2, 'S'],\n",
    "        [3, 'S'],\n",
    "        [4, 'N'],\n",
    "        [7, 'S']\n",
    "    ], columns=['Número', 'Primo'])"
   ]
  },
  {
   "cell_type": "code",
   "execution_count": 38,
   "id": "415b66fb-4647-4242-ad53-11883a9988e7",
   "metadata": {},
   "outputs": [
    {
     "data": {
      "text/html": [
       "<div>\n",
       "<style scoped>\n",
       "    .dataframe tbody tr th:only-of-type {\n",
       "        vertical-align: middle;\n",
       "    }\n",
       "\n",
       "    .dataframe tbody tr th {\n",
       "        vertical-align: top;\n",
       "    }\n",
       "\n",
       "    .dataframe thead th {\n",
       "        text-align: right;\n",
       "    }\n",
       "</style>\n",
       "<table border=\"1\" class=\"dataframe\">\n",
       "  <thead>\n",
       "    <tr style=\"text-align: right;\">\n",
       "      <th></th>\n",
       "      <th>Número</th>\n",
       "      <th>Cardinalidade</th>\n",
       "      <th>Primo</th>\n",
       "    </tr>\n",
       "  </thead>\n",
       "  <tbody>\n",
       "    <tr>\n",
       "      <th>0</th>\n",
       "      <td>1</td>\n",
       "      <td>ímpar</td>\n",
       "      <td>NaN</td>\n",
       "    </tr>\n",
       "    <tr>\n",
       "      <th>1</th>\n",
       "      <td>2</td>\n",
       "      <td>par</td>\n",
       "      <td>S</td>\n",
       "    </tr>\n",
       "    <tr>\n",
       "      <th>2</th>\n",
       "      <td>3</td>\n",
       "      <td>ímpar</td>\n",
       "      <td>S</td>\n",
       "    </tr>\n",
       "    <tr>\n",
       "      <th>3</th>\n",
       "      <td>4</td>\n",
       "      <td>par</td>\n",
       "      <td>N</td>\n",
       "    </tr>\n",
       "    <tr>\n",
       "      <th>4</th>\n",
       "      <td>7</td>\n",
       "      <td>NaN</td>\n",
       "      <td>S</td>\n",
       "    </tr>\n",
       "  </tbody>\n",
       "</table>\n",
       "</div>"
      ],
      "text/plain": [
       "   Número Cardinalidade Primo\n",
       "0       1         ímpar   NaN\n",
       "1       2           par     S\n",
       "2       3         ímpar     S\n",
       "3       4           par     N\n",
       "4       7           NaN     S"
      ]
     },
     "execution_count": 38,
     "metadata": {},
     "output_type": "execute_result"
    }
   ],
   "source": [
    "pd.merge(left=numeros_cardinalidade, right=numeros_primo, on=\"Número\", how=\"outer\")\n",
    "#Juntar dois frameworks. left right são as posições, on a interseção e how=\"outer\" significa que é pra \n",
    "#manter linhas que tem objetos faltando "
   ]
  },
  {
   "cell_type": "code",
   "execution_count": 41,
   "id": "9c4f593b-ad74-4c9b-ae5f-f78ebdf1a1cf",
   "metadata": {},
   "outputs": [],
   "source": [
    "numeros1 = pd.DataFrame(\n",
    "    [\n",
    "        [1, 'ímpar'],\n",
    "        [2, 'par']\n",
    "    ], columns=['Número', 'Cardinalidade'])\n",
    "numeros2 = pd.DataFrame(\n",
    "    [\n",
    "        [2, 'par'],\n",
    "        [3, 'ímpar']\n",
    "    ], columns=['Número', 'Cardinalidade'])"
   ]
  },
  {
   "cell_type": "code",
   "execution_count": 44,
   "id": "c5e3cef7-6cd6-4d94-99e0-ca4d4f14f5d9",
   "metadata": {},
   "outputs": [
    {
     "data": {
      "text/html": [
       "<div>\n",
       "<style scoped>\n",
       "    .dataframe tbody tr th:only-of-type {\n",
       "        vertical-align: middle;\n",
       "    }\n",
       "\n",
       "    .dataframe tbody tr th {\n",
       "        vertical-align: top;\n",
       "    }\n",
       "\n",
       "    .dataframe thead th {\n",
       "        text-align: right;\n",
       "    }\n",
       "</style>\n",
       "<table border=\"1\" class=\"dataframe\">\n",
       "  <thead>\n",
       "    <tr style=\"text-align: right;\">\n",
       "      <th></th>\n",
       "      <th>Número</th>\n",
       "      <th>Cardinalidade</th>\n",
       "    </tr>\n",
       "  </thead>\n",
       "  <tbody>\n",
       "    <tr>\n",
       "      <th>0</th>\n",
       "      <td>1</td>\n",
       "      <td>ímpar</td>\n",
       "    </tr>\n",
       "    <tr>\n",
       "      <th>1</th>\n",
       "      <td>2</td>\n",
       "      <td>par</td>\n",
       "    </tr>\n",
       "    <tr>\n",
       "      <th>2</th>\n",
       "      <td>2</td>\n",
       "      <td>par</td>\n",
       "    </tr>\n",
       "    <tr>\n",
       "      <th>3</th>\n",
       "      <td>3</td>\n",
       "      <td>ímpar</td>\n",
       "    </tr>\n",
       "  </tbody>\n",
       "</table>\n",
       "</div>"
      ],
      "text/plain": [
       "   Número Cardinalidade\n",
       "0       1         ímpar\n",
       "1       2           par\n",
       "2       2           par\n",
       "3       3         ímpar"
      ]
     },
     "execution_count": 44,
     "metadata": {},
     "output_type": "execute_result"
    }
   ],
   "source": [
    "pd.concat([numeros1, numeros2], ignore_index=True)\n",
    "#Junta frameworks que se complementam. Atenção, não tira repetidos!"
   ]
  },
  {
   "cell_type": "code",
   "execution_count": 45,
   "id": "be5e1b7c-b3bd-44f8-a2fa-14b5d4dc0b3f",
   "metadata": {},
   "outputs": [],
   "source": [
    "cidades.to_csv(\"cidades.csv\") #Para salvar arquivo com framework"
   ]
  }
 ],
 "metadata": {
  "kernelspec": {
   "display_name": "Python 3 (ipykernel)",
   "language": "python",
   "name": "python3"
  },
  "language_info": {
   "codemirror_mode": {
    "name": "ipython",
    "version": 3
   },
   "file_extension": ".py",
   "mimetype": "text/x-python",
   "name": "python",
   "nbconvert_exporter": "python",
   "pygments_lexer": "ipython3",
   "version": "3.12.7"
  }
 },
 "nbformat": 4,
 "nbformat_minor": 5
}
